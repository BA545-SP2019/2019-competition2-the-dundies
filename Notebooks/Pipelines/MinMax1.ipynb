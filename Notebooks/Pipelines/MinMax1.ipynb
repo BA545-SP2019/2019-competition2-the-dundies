{
 "cells": [
  {
   "cell_type": "code",
   "execution_count": 1,
   "metadata": {},
   "outputs": [
    {
     "data": {
      "text/html": [
       "<div>\n",
       "<style scoped>\n",
       "    .dataframe tbody tr th:only-of-type {\n",
       "        vertical-align: middle;\n",
       "    }\n",
       "\n",
       "    .dataframe tbody tr th {\n",
       "        vertical-align: top;\n",
       "    }\n",
       "\n",
       "    .dataframe thead th {\n",
       "        text-align: right;\n",
       "    }\n",
       "</style>\n",
       "<table border=\"1\" class=\"dataframe\">\n",
       "  <thead>\n",
       "    <tr style=\"text-align: right;\">\n",
       "      <th></th>\n",
       "      <th>X1</th>\n",
       "      <th>X2</th>\n",
       "      <th>X6</th>\n",
       "      <th>X7</th>\n",
       "      <th>X8</th>\n",
       "      <th>X9</th>\n",
       "      <th>X10</th>\n",
       "      <th>X11</th>\n",
       "      <th>X12</th>\n",
       "      <th>X13</th>\n",
       "      <th>...</th>\n",
       "      <th>X18</th>\n",
       "      <th>X19</th>\n",
       "      <th>X20</th>\n",
       "      <th>X21</th>\n",
       "      <th>X22</th>\n",
       "      <th>X23</th>\n",
       "      <th>Y</th>\n",
       "      <th>X3_Bin</th>\n",
       "      <th>X4_Bin</th>\n",
       "      <th>X5_Bin</th>\n",
       "    </tr>\n",
       "  </thead>\n",
       "  <tbody>\n",
       "    <tr>\n",
       "      <th>1</th>\n",
       "      <td>20000</td>\n",
       "      <td>2</td>\n",
       "      <td>2</td>\n",
       "      <td>2</td>\n",
       "      <td>-1</td>\n",
       "      <td>-1</td>\n",
       "      <td>0</td>\n",
       "      <td>0</td>\n",
       "      <td>3913</td>\n",
       "      <td>3102</td>\n",
       "      <td>...</td>\n",
       "      <td>0</td>\n",
       "      <td>689</td>\n",
       "      <td>0</td>\n",
       "      <td>0</td>\n",
       "      <td>0</td>\n",
       "      <td>0</td>\n",
       "      <td>1</td>\n",
       "      <td>2</td>\n",
       "      <td>1</td>\n",
       "      <td>1</td>\n",
       "    </tr>\n",
       "    <tr>\n",
       "      <th>2</th>\n",
       "      <td>120000</td>\n",
       "      <td>2</td>\n",
       "      <td>-1</td>\n",
       "      <td>2</td>\n",
       "      <td>0</td>\n",
       "      <td>0</td>\n",
       "      <td>0</td>\n",
       "      <td>2</td>\n",
       "      <td>2682</td>\n",
       "      <td>1725</td>\n",
       "      <td>...</td>\n",
       "      <td>0</td>\n",
       "      <td>1000</td>\n",
       "      <td>1000</td>\n",
       "      <td>1000</td>\n",
       "      <td>0</td>\n",
       "      <td>2000</td>\n",
       "      <td>1</td>\n",
       "      <td>2</td>\n",
       "      <td>2</td>\n",
       "      <td>1</td>\n",
       "    </tr>\n",
       "    <tr>\n",
       "      <th>3</th>\n",
       "      <td>90000</td>\n",
       "      <td>2</td>\n",
       "      <td>0</td>\n",
       "      <td>0</td>\n",
       "      <td>0</td>\n",
       "      <td>0</td>\n",
       "      <td>0</td>\n",
       "      <td>0</td>\n",
       "      <td>29239</td>\n",
       "      <td>14027</td>\n",
       "      <td>...</td>\n",
       "      <td>1518</td>\n",
       "      <td>1500</td>\n",
       "      <td>1000</td>\n",
       "      <td>1000</td>\n",
       "      <td>1000</td>\n",
       "      <td>5000</td>\n",
       "      <td>0</td>\n",
       "      <td>2</td>\n",
       "      <td>2</td>\n",
       "      <td>2</td>\n",
       "    </tr>\n",
       "    <tr>\n",
       "      <th>4</th>\n",
       "      <td>50000</td>\n",
       "      <td>2</td>\n",
       "      <td>0</td>\n",
       "      <td>0</td>\n",
       "      <td>0</td>\n",
       "      <td>0</td>\n",
       "      <td>0</td>\n",
       "      <td>0</td>\n",
       "      <td>46990</td>\n",
       "      <td>48233</td>\n",
       "      <td>...</td>\n",
       "      <td>2000</td>\n",
       "      <td>2019</td>\n",
       "      <td>1200</td>\n",
       "      <td>1100</td>\n",
       "      <td>1069</td>\n",
       "      <td>1000</td>\n",
       "      <td>0</td>\n",
       "      <td>2</td>\n",
       "      <td>1</td>\n",
       "      <td>2</td>\n",
       "    </tr>\n",
       "    <tr>\n",
       "      <th>5</th>\n",
       "      <td>50000</td>\n",
       "      <td>1</td>\n",
       "      <td>-1</td>\n",
       "      <td>0</td>\n",
       "      <td>-1</td>\n",
       "      <td>0</td>\n",
       "      <td>0</td>\n",
       "      <td>0</td>\n",
       "      <td>8617</td>\n",
       "      <td>5670</td>\n",
       "      <td>...</td>\n",
       "      <td>2000</td>\n",
       "      <td>36681</td>\n",
       "      <td>10000</td>\n",
       "      <td>9000</td>\n",
       "      <td>689</td>\n",
       "      <td>679</td>\n",
       "      <td>0</td>\n",
       "      <td>2</td>\n",
       "      <td>1</td>\n",
       "      <td>3</td>\n",
       "    </tr>\n",
       "  </tbody>\n",
       "</table>\n",
       "<p>5 rows × 24 columns</p>\n",
       "</div>"
      ],
      "text/plain": [
       "       X1  X2  X6  X7  X8  X9  X10  X11    X12    X13   ...     X18    X19  \\\n",
       "1   20000   2   2   2  -1  -1    0    0   3913   3102   ...       0    689   \n",
       "2  120000   2  -1   2   0   0    0    2   2682   1725   ...       0   1000   \n",
       "3   90000   2   0   0   0   0    0    0  29239  14027   ...    1518   1500   \n",
       "4   50000   2   0   0   0   0    0    0  46990  48233   ...    2000   2019   \n",
       "5   50000   1  -1   0  -1   0    0    0   8617   5670   ...    2000  36681   \n",
       "\n",
       "     X20   X21   X22   X23  Y  X3_Bin  X4_Bin  X5_Bin  \n",
       "1      0     0     0     0  1       2       1       1  \n",
       "2   1000  1000     0  2000  1       2       2       1  \n",
       "3   1000  1000  1000  5000  0       2       2       2  \n",
       "4   1200  1100  1069  1000  0       2       1       2  \n",
       "5  10000  9000   689   679  0       2       1       3  \n",
       "\n",
       "[5 rows x 24 columns]"
      ]
     },
     "execution_count": 1,
     "metadata": {},
     "output_type": "execute_result"
    }
   ],
   "source": [
    "## loading stuffz\n",
    "\n",
    "import pandas as pd\n",
    "import numpy as np\n",
    "import matplotlib.pyplot as plt\n",
    "import seaborn as sns\n",
    "from scipy.stats import kurtosis, skew\n",
    "from sklearn import datasets\n",
    "from scipy.stats import iqr\n",
    "from sklearn import preprocessing\n",
    "from sklearn.preprocessing import MinMaxScaler\n",
    "\n",
    "data = pd.read_csv(\"../Binnings/Age_Bin.csv\", index_col=0, header=0)\n",
    "data.head()"
   ]
  },
  {
   "cell_type": "code",
   "execution_count": 2,
   "metadata": {},
   "outputs": [],
   "source": [
    "## Removing the `Y` column from the dataframe\n",
    "\n",
    "target = data['Y']\n",
    "data = data.drop(['Y'], axis=1)"
   ]
  },
  {
   "cell_type": "code",
   "execution_count": 3,
   "metadata": {},
   "outputs": [
    {
     "data": {
      "image/png": "[encoded data removed]",
      "text/plain": [
       "<Figure size 432x288 with 1 Axes>"
      ]
     },
     "metadata": {},
     "output_type": "display_data"
    },
    {
     "data": {
      "image/png": "[encoded data removed]",
      "text/plain": [
       "<Figure size 432x288 with 1 Axes>"
      ]
     },
     "metadata": {},
     "output_type": "display_data"
    },
    {
     "data": {
      "image/png": "[encoded data removed]",
      "text/plain": [
       "<Figure size 432x288 with 1 Axes>"
      ]
     },
     "metadata": {},
     "output_type": "display_data"
    },
    {
     "data": {
      "image/png": "[encoded data removed]",
      "text/plain": [
       "<Figure size 432x288 with 1 Axes>"
      ]
     },
     "metadata": {},
     "output_type": "display_data"
    },
    {
     "data": {
      "image/png": "[encoded data removed]",
      "text/plain": [
       "<Figure size 432x288 with 1 Axes>"
      ]
     },
     "metadata": {},
     "output_type": "display_data"
    },
    {
     "data": {
      "image/png": "[encoded data removed]",
      "text/plain": [
       "<Figure size 432x288 with 1 Axes>"
      ]
     },
     "metadata": {},
     "output_type": "display_data"
    },
    {
     "data": {
      "image/png": "[encoded data removed]",
      "text/plain": [
       "<Figure size 432x288 with 1 Axes>"
      ]
     },
     "metadata": {},
     "output_type": "display_data"
    },
    {
     "data": {
      "image/png": "[encoded data removed]",
      "text/plain": [
       "<Figure size 432x288 with 1 Axes>"
      ]
     },
     "metadata": {},
     "output_type": "display_data"
    },
    {
     "data": {
      "image/png": "[encoded data removed]",
      "text/plain": [
       "<Figure size 432x288 with 1 Axes>"
      ]
     },
     "metadata": {},
     "output_type": "display_data"
    },
    {
     "data": {
      "image/png": "[encoded data removed]",
      "text/plain": [
       "<Figure size 432x288 with 1 Axes>"
      ]
     },
     "metadata": {},
     "output_type": "display_data"
    },
    {
     "data": {
      "image/png": "[encoded data removed]",
      "text/plain": [
       "<Figure size 432x288 with 1 Axes>"
      ]
     },
     "metadata": {},
     "output_type": "display_data"
    },
    {
     "data": {
      "image/png": "[encoded data removed]",
      "text/plain": [
       "<Figure size 432x288 with 1 Axes>"
      ]
     },
     "metadata": {},
     "output_type": "display_data"
    },
    {
     "data": {
      "image/png": "[encoded data removed]",
      "text/plain": [
       "<Figure size 432x288 with 1 Axes>"
      ]
     },
     "metadata": {},
     "output_type": "display_data"
    },
    {
     "data": {
      "image/png": "[encoded data removed]",
      "text/plain": [
       "<Figure size 432x288 with 1 Axes>"
      ]
     },
     "metadata": {},
     "output_type": "display_data"
    },
    {
     "data": {
      "image/png": "[encoded data removed]",
      "text/plain": [
       "<Figure size 432x288 with 1 Axes>"
      ]
     },
     "metadata": {},
     "output_type": "display_data"
    },
    {
     "data": {
      "image/png": "[encoded data removed]",
      "text/plain": [
       "<Figure size 432x288 with 1 Axes>"
      ]
     },
     "metadata": {},
     "output_type": "display_data"
    },
    {
     "data": {
      "image/png": "[encoded data removed]",
      "text/plain": [
       "<Figure size 432x288 with 1 Axes>"
      ]
     },
     "metadata": {},
     "output_type": "display_data"
    },
    {
     "data": {
      "image/png": "[encoded data removed]",
      "text/plain": [
       "<Figure size 432x288 with 1 Axes>"
      ]
     },
     "metadata": {},
     "output_type": "display_data"
    },
    {
     "data": {
      "image/png": "[encoded data removed]",
      "text/plain": [
       "<Figure size 432x288 with 1 Axes>"
      ]
     },
     "metadata": {},
     "output_type": "display_data"
    },
    {
     "data": {
      "image/png": "[encoded data removed]",
      "text/plain": [
       "<Figure size 432x288 with 1 Axes>"
      ]
     },
     "metadata": {},
     "output_type": "display_data"
    },
    {
     "data": {
      "image/png": "[encoded data removed]",
      "text/plain": [
       "<Figure size 432x288 with 1 Axes>"
      ]
     },
     "metadata": {},
     "output_type": "display_data"
    },
    {
     "data": {
      "image/png": "[encoded data removed]",
      "text/plain": [
       "<Figure size 432x288 with 1 Axes>"
      ]
     },
     "metadata": {},
     "output_type": "display_data"
    },
    {
     "data": {
      "image/png": "[encoded data removed]",
      "text/plain": [
       "<Figure size 432x288 with 1 Axes>"
      ]
     },
     "metadata": {},
     "output_type": "display_data"
    }
   ],
   "source": [
    "## Creating a new variable `plot_box` to store the `new_cols`\n",
    "new_cols = ['X1','X2','X3_Bin','X4_Bin','X5_Bin','X6','X7','X8','X9','X10','X11','X12','X13','X14','X15','X16','X17','X18','X19','X20','X21','X22','X23']\n",
    "\n",
    "## and be populated with data from the `data` dataframe\n",
    "plot_box = data[new_cols]\n",
    "\n",
    "### Creating a for loop that will plot each column in\n",
    "### the variable `plot_box` as long as it is a column\n",
    "for i in range(len(plot_box.columns)):\n",
    "    plt.boxplot(plot_box.iloc[:,i].dropna())\n",
    "### For each title, we are using the name of the column\n",
    "### as it appears in the `plot_box` variable    \n",
    "    plt.title('%a' % plot_box.columns[i])\n",
    "### Ultimately showing the boxplot at the end of \n",
    "### the for loop\n",
    "    plt.show();"
   ]
  },
  {
   "cell_type": "code",
   "execution_count": 4,
   "metadata": {},
   "outputs": [
    {
     "data": {
      "text/plain": [
       "{'whiskers': [<matplotlib.lines.Line2D at 0x7f6d373aed30>,\n",
       "  <matplotlib.lines.Line2D at 0x7f6d374530b8>],\n",
       " 'caps': [<matplotlib.lines.Line2D at 0x7f6d37453400>,\n",
       "  <matplotlib.lines.Line2D at 0x7f6d37453748>],\n",
       " 'boxes': [<matplotlib.lines.Line2D at 0x7f6d373aebe0>],\n",
       " 'medians': [<matplotlib.lines.Line2D at 0x7f6d37453a90>],\n",
       " 'fliers': [<matplotlib.lines.Line2D at 0x7f6d37453dd8>],\n",
       " 'means': []}"
      ]
     },
     "execution_count": 4,
     "metadata": {},
     "output_type": "execute_result"
    },
    {
     "data": {
      "image/png": "[encoded data removed]",
      "text/plain": [
       "<Figure size 432x288 with 1 Axes>"
      ]
     },
     "metadata": {},
     "output_type": "display_data"
    }
   ],
   "source": [
    "# Defining the function 'iqr_outliers' to help with outliers\n",
    "\n",
    "def iqr_outliers(x):\n",
    "    if x > (Q3 + (1.5*IQR)):\n",
    "        x=Q3\n",
    "    elif x <(Q1 - (1.5*IQR)):\n",
    "        x=Q1\n",
    "    else:\n",
    "        pass\n",
    "    return(x)\n",
    "\n",
    "Q1 = data['X1'].quantile(0.25)\n",
    "Q3 = data['X1'].quantile(0.75)\n",
    "IQR = iqr(data['X1'])\n",
    "data['X1']=data['X1'].apply(lambda x: iqr_outliers(x))\n",
    "\n",
    "# Plotting box plots for identifying outliers\n",
    "plt.boxplot(data.X1)"
   ]
  },
  {
   "cell_type": "code",
   "execution_count": 5,
   "metadata": {},
   "outputs": [
    {
     "data": {
      "text/plain": [
       "{'whiskers': [<matplotlib.lines.Line2D at 0x7f6d37597390>,\n",
       "  <matplotlib.lines.Line2D at 0x7f6d375976d8>],\n",
       " 'caps': [<matplotlib.lines.Line2D at 0x7f6d37597a20>,\n",
       "  <matplotlib.lines.Line2D at 0x7f6d37597d68>],\n",
       " 'boxes': [<matplotlib.lines.Line2D at 0x7f6d37597240>],\n",
       " 'medians': [<matplotlib.lines.Line2D at 0x7f6d375a60f0>],\n",
       " 'fliers': [<matplotlib.lines.Line2D at 0x7f6d375a6438>],\n",
       " 'means': []}"
      ]
     },
     "execution_count": 5,
     "metadata": {},
     "output_type": "execute_result"
    },
    {
     "data": {
      "image/png": "[encoded data removed]",
      "text/plain": [
       "<Figure size 432x288 with 1 Axes>"
      ]
     },
     "metadata": {},
     "output_type": "display_data"
    }
   ],
   "source": [
    "Q1 = data['X12'].quantile(0.25)\n",
    "Q3 = data['X12'].quantile(0.75)\n",
    "IQR = iqr(data['X12'])\n",
    "data['X12']=data['X12'].apply(lambda x: iqr_outliers(x))\n",
    "\n",
    "# Plotting box plots for identifying outliers\n",
    "plt.boxplot(data.X12)"
   ]
  },
  {
   "cell_type": "code",
   "execution_count": 6,
   "metadata": {},
   "outputs": [
    {
     "data": {
      "text/plain": [
       "{'whiskers': [<matplotlib.lines.Line2D at 0x7f6d374ac4a8>,\n",
       "  <matplotlib.lines.Line2D at 0x7f6d374ac7f0>],\n",
       " 'caps': [<matplotlib.lines.Line2D at 0x7f6d374acb38>,\n",
       "  <matplotlib.lines.Line2D at 0x7f6d374ace80>],\n",
       " 'boxes': [<matplotlib.lines.Line2D at 0x7f6d374ac358>],\n",
       " 'medians': [<matplotlib.lines.Line2D at 0x7f6d374ae208>],\n",
       " 'fliers': [<matplotlib.lines.Line2D at 0x7f6d374ae550>],\n",
       " 'means': []}"
      ]
     },
     "execution_count": 6,
     "metadata": {},
     "output_type": "execute_result"
    },
    {
     "data": {
      "image/png": "[encoded data removed]",
      "text/plain": [
       "<Figure size 432x288 with 1 Axes>"
      ]
     },
     "metadata": {},
     "output_type": "display_data"
    }
   ],
   "source": [
    "Q1 = data['X13'].quantile(0.25)\n",
    "Q3 = data['X13'].quantile(0.75)\n",
    "IQR = iqr(data['X13'])\n",
    "data['X13']=data['X13'].apply(lambda x: iqr_outliers(x))\n",
    "\n",
    "# Plotting box plots for identifying outliers\n",
    "plt.boxplot(data.X13)"
   ]
  },
  {
   "cell_type": "code",
   "execution_count": 7,
   "metadata": {},
   "outputs": [
    {
     "data": {
      "text/plain": [
       "{'whiskers': [<matplotlib.lines.Line2D at 0x7f6d370d9c18>,\n",
       "  <matplotlib.lines.Line2D at 0x7f6d370d9f60>],\n",
       " 'caps': [<matplotlib.lines.Line2D at 0x7f6d370e32e8>,\n",
       "  <matplotlib.lines.Line2D at 0x7f6d370e3630>],\n",
       " 'boxes': [<matplotlib.lines.Line2D at 0x7f6d370d9ac8>],\n",
       " 'medians': [<matplotlib.lines.Line2D at 0x7f6d370e3978>],\n",
       " 'fliers': [<matplotlib.lines.Line2D at 0x7f6d370e3cc0>],\n",
       " 'means': []}"
      ]
     },
     "execution_count": 7,
     "metadata": {},
     "output_type": "execute_result"
    },
    {
     "data": {
      "image/png": "[encoded data removed]",
      "text/plain": [
       "<Figure size 432x288 with 1 Axes>"
      ]
     },
     "metadata": {},
     "output_type": "display_data"
    }
   ],
   "source": [
    "Q1 = data['X14'].quantile(0.25)\n",
    "Q3 = data['X14'].quantile(0.75)\n",
    "IQR = iqr(data['X14'])\n",
    "data['X14']=data['X14'].apply(lambda x: iqr_outliers(x))\n",
    "\n",
    "# Plotting box plots for identifying outliers\n",
    "plt.boxplot(data.X14)"
   ]
  },
  {
   "cell_type": "code",
   "execution_count": 8,
   "metadata": {},
   "outputs": [
    {
     "data": {
      "text/plain": [
       "{'whiskers': [<matplotlib.lines.Line2D at 0x7f6d3741ad30>,\n",
       "  <matplotlib.lines.Line2D at 0x7f6d3741afd0>],\n",
       " 'caps': [<matplotlib.lines.Line2D at 0x7f6d3742dc18>,\n",
       "  <matplotlib.lines.Line2D at 0x7f6d3742d828>],\n",
       " 'boxes': [<matplotlib.lines.Line2D at 0x7f6d3741a710>],\n",
       " 'medians': [<matplotlib.lines.Line2D at 0x7f6d3742de10>],\n",
       " 'fliers': [<matplotlib.lines.Line2D at 0x7f6d3742d390>],\n",
       " 'means': []}"
      ]
     },
     "execution_count": 8,
     "metadata": {},
     "output_type": "execute_result"
    },
    {
     "data": {
      "image/png": "[encoded data removed]",
      "text/plain": [
       "<Figure size 432x288 with 1 Axes>"
      ]
     },
     "metadata": {},
     "output_type": "display_data"
    }
   ],
   "source": [
    "Q1 = data['X15'].quantile(0.25)\n",
    "Q3 = data['X15'].quantile(0.75)\n",
    "IQR = iqr(data['X15'])\n",
    "data['X15']=data['X15'].apply(lambda x: iqr_outliers(x))\n",
    "\n",
    "# Plotting box plots for identifying outliers\n",
    "plt.boxplot(data.X15)"
   ]
  },
  {
   "cell_type": "code",
   "execution_count": 9,
   "metadata": {},
   "outputs": [
    {
     "data": {
      "text/plain": [
       "{'whiskers': [<matplotlib.lines.Line2D at 0x7f6d37333080>,\n",
       "  <matplotlib.lines.Line2D at 0x7f6d37333b38>],\n",
       " 'caps': [<matplotlib.lines.Line2D at 0x7f6d373336a0>,\n",
       "  <matplotlib.lines.Line2D at 0x7f6d3755e5c0>],\n",
       " 'boxes': [<matplotlib.lines.Line2D at 0x7f6d37333e48>],\n",
       " 'medians': [<matplotlib.lines.Line2D at 0x7f6d3755e3c8>],\n",
       " 'fliers': [<matplotlib.lines.Line2D at 0x7f6d3755ecc0>],\n",
       " 'means': []}"
      ]
     },
     "execution_count": 9,
     "metadata": {},
     "output_type": "execute_result"
    },
    {
     "data": {
      "image/png": "[encoded data removed]",
      "text/plain": [
       "<Figure size 432x288 with 1 Axes>"
      ]
     },
     "metadata": {},
     "output_type": "display_data"
    }
   ],
   "source": [
    "Q1 = data['X16'].quantile(0.25)\n",
    "Q3 = data['X16'].quantile(0.75)\n",
    "IQR = iqr(data['X16'])\n",
    "data['X16']=data['X16'].apply(lambda x: iqr_outliers(x))\n",
    "\n",
    "# Plotting box plots for identifying outliers\n",
    "plt.boxplot(data.X16)"
   ]
  },
  {
   "cell_type": "code",
   "execution_count": 10,
   "metadata": {},
   "outputs": [
    {
     "data": {
      "text/plain": [
       "{'whiskers': [<matplotlib.lines.Line2D at 0x7f6d3964ae48>,\n",
       "  <matplotlib.lines.Line2D at 0x7f6d3760f208>],\n",
       " 'caps': [<matplotlib.lines.Line2D at 0x7f6d3760f710>,\n",
       "  <matplotlib.lines.Line2D at 0x7f6d3760f400>],\n",
       " 'boxes': [<matplotlib.lines.Line2D at 0x7f6d3964a080>],\n",
       " 'medians': [<matplotlib.lines.Line2D at 0x7f6d3760fac8>],\n",
       " 'fliers': [<matplotlib.lines.Line2D at 0x7f6d3760f940>],\n",
       " 'means': []}"
      ]
     },
     "execution_count": 10,
     "metadata": {},
     "output_type": "execute_result"
    },
    {
     "data": {
      "image/png": "[encoded data removed]",
      "text/plain": [
       "<Figure size 432x288 with 1 Axes>"
      ]
     },
     "metadata": {},
     "output_type": "display_data"
    }
   ],
   "source": [
    "Q1 = data['X17'].quantile(0.25)\n",
    "Q3 = data['X17'].quantile(0.75)\n",
    "IQR = iqr(data['X17'])\n",
    "data['X17']=data['X17'].apply(lambda x: iqr_outliers(x))\n",
    "\n",
    "# Plotting box plots for identifying outliers\n",
    "plt.boxplot(data.X17)"
   ]
  },
  {
   "cell_type": "code",
   "execution_count": 11,
   "metadata": {},
   "outputs": [
    {
     "data": {
      "text/plain": [
       "{'whiskers': [<matplotlib.lines.Line2D at 0x7f6d375dd4e0>,\n",
       "  <matplotlib.lines.Line2D at 0x7f6d375dd828>],\n",
       " 'caps': [<matplotlib.lines.Line2D at 0x7f6d375ddb70>,\n",
       "  <matplotlib.lines.Line2D at 0x7f6d375ddeb8>],\n",
       " 'boxes': [<matplotlib.lines.Line2D at 0x7f6d375dd390>],\n",
       " 'medians': [<matplotlib.lines.Line2D at 0x7f6d37610240>],\n",
       " 'fliers': [<matplotlib.lines.Line2D at 0x7f6d37610588>],\n",
       " 'means': []}"
      ]
     },
     "execution_count": 11,
     "metadata": {},
     "output_type": "execute_result"
    },
    {
     "data": {
      "image/png": "[encoded data removed]",
      "text/plain": [
       "<Figure size 432x288 with 1 Axes>"
      ]
     },
     "metadata": {},
     "output_type": "display_data"
    }
   ],
   "source": [
    "Q1 = data['X18'].quantile(0.25)\n",
    "Q3 = data['X18'].quantile(0.75)\n",
    "IQR = iqr(data['X18'])\n",
    "data['X18']=data['X18'].apply(lambda x: iqr_outliers(x))\n",
    "\n",
    "# Plotting box plots for identifying outliers\n",
    "plt.boxplot(data.X18)"
   ]
  },
  {
   "cell_type": "code",
   "execution_count": 12,
   "metadata": {},
   "outputs": [
    {
     "data": {
      "text/plain": [
       "{'whiskers': [<matplotlib.lines.Line2D at 0x7f6d37435160>,\n",
       "  <matplotlib.lines.Line2D at 0x7f6d374354a8>],\n",
       " 'caps': [<matplotlib.lines.Line2D at 0x7f6d374357f0>,\n",
       "  <matplotlib.lines.Line2D at 0x7f6d37435b38>],\n",
       " 'boxes': [<matplotlib.lines.Line2D at 0x7f6d37438fd0>],\n",
       " 'medians': [<matplotlib.lines.Line2D at 0x7f6d37435e80>],\n",
       " 'fliers': [<matplotlib.lines.Line2D at 0x7f6d37509208>],\n",
       " 'means': []}"
      ]
     },
     "execution_count": 12,
     "metadata": {},
     "output_type": "execute_result"
    },
    {
     "data": {
      "image/png": "[encoded data removed]",
      "text/plain": [
       "<Figure size 432x288 with 1 Axes>"
      ]
     },
     "metadata": {},
     "output_type": "display_data"
    }
   ],
   "source": [
    "Q1 = data['X19'].quantile(0.25)\n",
    "Q3 = data['X19'].quantile(0.75)\n",
    "IQR = iqr(data['X19'])\n",
    "data['X19']=data['X19'].apply(lambda x: iqr_outliers(x))\n",
    "\n",
    "# Plotting box plots for identifying outliers\n",
    "plt.boxplot(data.X19)"
   ]
  },
  {
   "cell_type": "code",
   "execution_count": 13,
   "metadata": {},
   "outputs": [
    {
     "data": {
      "text/plain": [
       "{'whiskers': [<matplotlib.lines.Line2D at 0x7f6d36c40da0>,\n",
       "  <matplotlib.lines.Line2D at 0x7f6d36c6d128>],\n",
       " 'caps': [<matplotlib.lines.Line2D at 0x7f6d36c6d470>,\n",
       "  <matplotlib.lines.Line2D at 0x7f6d36c6d7b8>],\n",
       " 'boxes': [<matplotlib.lines.Line2D at 0x7f6d36c40c50>],\n",
       " 'medians': [<matplotlib.lines.Line2D at 0x7f6d36c6db00>],\n",
       " 'fliers': [<matplotlib.lines.Line2D at 0x7f6d36c6de48>],\n",
       " 'means': []}"
      ]
     },
     "execution_count": 13,
     "metadata": {},
     "output_type": "execute_result"
    },
    {
     "data": {
      "image/png": "[encoded data removed]",
      "text/plain": [
       "<Figure size 432x288 with 1 Axes>"
      ]
     },
     "metadata": {},
     "output_type": "display_data"
    }
   ],
   "source": [
    "Q1 = data['X20'].quantile(0.25)\n",
    "Q3 = data['X20'].quantile(0.75)\n",
    "IQR = iqr(data['X20'])\n",
    "data['X20']=data['X20'].apply(lambda x: iqr_outliers(x))\n",
    "\n",
    "# Plotting box plots for identifying outliers\n",
    "plt.boxplot(data.X20)"
   ]
  },
  {
   "cell_type": "code",
   "execution_count": 14,
   "metadata": {},
   "outputs": [
    {
     "data": {
      "text/plain": [
       "{'whiskers': [<matplotlib.lines.Line2D at 0x7f6d37321a20>,\n",
       "  <matplotlib.lines.Line2D at 0x7f6d37321d68>],\n",
       " 'caps': [<matplotlib.lines.Line2D at 0x7f6d3733d0f0>,\n",
       "  <matplotlib.lines.Line2D at 0x7f6d3733d438>],\n",
       " 'boxes': [<matplotlib.lines.Line2D at 0x7f6d373218d0>],\n",
       " 'medians': [<matplotlib.lines.Line2D at 0x7f6d3733d780>],\n",
       " 'fliers': [<matplotlib.lines.Line2D at 0x7f6d3733dac8>],\n",
       " 'means': []}"
      ]
     },
     "execution_count": 14,
     "metadata": {},
     "output_type": "execute_result"
    },
    {
     "data": {
      "image/png": "[encoded data removed]",
      "text/plain": [
       "<Figure size 432x288 with 1 Axes>"
      ]
     },
     "metadata": {},
     "output_type": "display_data"
    }
   ],
   "source": [
    "Q1 = data['X21'].quantile(0.25)\n",
    "Q3 = data['X21'].quantile(0.75)\n",
    "IQR = iqr(data['X21'])\n",
    "data['X21']=data['X21'].apply(lambda x: iqr_outliers(x))\n",
    "\n",
    "# Plotting box plots for identifying outliers\n",
    "plt.boxplot(data.X21)"
   ]
  },
  {
   "cell_type": "code",
   "execution_count": 15,
   "metadata": {},
   "outputs": [
    {
     "data": {
      "text/plain": [
       "{'whiskers': [<matplotlib.lines.Line2D at 0x7f6d372ef6a0>,\n",
       "  <matplotlib.lines.Line2D at 0x7f6d372ef9e8>],\n",
       " 'caps': [<matplotlib.lines.Line2D at 0x7f6d372efd30>,\n",
       "  <matplotlib.lines.Line2D at 0x7f6d373010b8>],\n",
       " 'boxes': [<matplotlib.lines.Line2D at 0x7f6d372ef550>],\n",
       " 'medians': [<matplotlib.lines.Line2D at 0x7f6d37301400>],\n",
       " 'fliers': [<matplotlib.lines.Line2D at 0x7f6d37301748>],\n",
       " 'means': []}"
      ]
     },
     "execution_count": 15,
     "metadata": {},
     "output_type": "execute_result"
    },
    {
     "data": {
      "image/png": "[encoded data removed]",
      "text/plain": [
       "<Figure size 432x288 with 1 Axes>"
      ]
     },
     "metadata": {},
     "output_type": "display_data"
    }
   ],
   "source": [
    "Q1 = data['X22'].quantile(0.25)\n",
    "Q3 = data['X22'].quantile(0.75)\n",
    "IQR = iqr(data['X22'])\n",
    "data['X22']=data['X22'].apply(lambda x: iqr_outliers(x))\n",
    "\n",
    "# Plotting box plots for identifying outliers\n",
    "plt.boxplot(data.X22)"
   ]
  },
  {
   "cell_type": "code",
   "execution_count": 16,
   "metadata": {},
   "outputs": [
    {
     "data": {
      "text/plain": [
       "{'whiskers': [<matplotlib.lines.Line2D at 0x7f6d371c5320>,\n",
       "  <matplotlib.lines.Line2D at 0x7f6d371c5668>],\n",
       " 'caps': [<matplotlib.lines.Line2D at 0x7f6d371c59b0>,\n",
       "  <matplotlib.lines.Line2D at 0x7f6d371c5cf8>],\n",
       " 'boxes': [<matplotlib.lines.Line2D at 0x7f6d371c51d0>],\n",
       " 'medians': [<matplotlib.lines.Line2D at 0x7f6d371d3080>],\n",
       " 'fliers': [<matplotlib.lines.Line2D at 0x7f6d371d33c8>],\n",
       " 'means': []}"
      ]
     },
     "execution_count": 16,
     "metadata": {},
     "output_type": "execute_result"
    },
    {
     "data": {
      "image/png": "[encoded data removed]",
      "text/plain": [
       "<Figure size 432x288 with 1 Axes>"
      ]
     },
     "metadata": {},
     "output_type": "display_data"
    }
   ],
   "source": [
    "Q1 = data['X23'].quantile(0.25)\n",
    "Q3 = data['X23'].quantile(0.75)\n",
    "IQR = iqr(data['X23'])\n",
    "data['X23']=data['X23'].apply(lambda x: iqr_outliers(x))\n",
    "\n",
    "# Plotting box plots for identifying outliers\n",
    "plt.boxplot(data.X23)"
   ]
  },
  {
   "cell_type": "markdown",
   "metadata": {},
   "source": [
    "### Normalization ###"
   ]
  },
  {
   "cell_type": "code",
   "execution_count": 17,
   "metadata": {},
   "outputs": [
    {
     "data": {
      "text/plain": [
       "X1        165380.989333\n",
       "X2             1.603733\n",
       "X6             0.167233\n",
       "X7             0.118367\n",
       "X8             0.106133\n",
       "X9             0.069200\n",
       "X10            0.036867\n",
       "X11            0.035233\n",
       "X12        36682.316617\n",
       "X13        35087.253192\n",
       "X14        33033.157042\n",
       "X15        29720.809817\n",
       "X16        27160.747133\n",
       "X17        26163.635767\n",
       "X18         2946.907300\n",
       "X19         2856.845067\n",
       "X20         2501.279400\n",
       "X21         2161.823750\n",
       "X22         2175.089417\n",
       "X23         2140.253100\n",
       "X3_Bin         1.815167\n",
       "X4_Bin         1.544700\n",
       "X5_Bin         1.984200\n",
       "dtype: float64"
      ]
     },
     "execution_count": 17,
     "metadata": {},
     "output_type": "execute_result"
    }
   ],
   "source": [
    "## Checking the mean\n",
    "data.mean()"
   ]
  },
  {
   "cell_type": "code",
   "execution_count": 18,
   "metadata": {},
   "outputs": [],
   "source": [
    "# Moving features to another variable\n",
    "features_no = data.filter(['X3_Bin','X4_Bin','X5_Bin','X6','X7','X8','X9','X10','X11'], axis=1)\n",
    "\n",
    "# Dropping other variables\n",
    "data = data.drop(['X3_Bin','X4_Bin','X5_Bin','X6','X7','X8','X9','X10','X11'], axis=1)\n",
    "\n",
    "# Creating a new variable for columns\n",
    "new_cols = ['X1','X2','X12','X13','X14','X15','X16','X17','X18','X19','X20','X21','X22','X23']\n",
    "\n",
    "# Normalizing using MinMax\n",
    "minmax = preprocessing.MinMaxScaler()\n",
    "normal_data = (minmax.fit_transform(data))\n",
    "normal_data = pd.DataFrame(normal_data, columns=new_cols)"
   ]
  },
  {
   "cell_type": "code",
   "execution_count": 19,
   "metadata": {},
   "outputs": [
    {
     "data": {
      "image/png": "[encoded data removed]",
      "text/plain": [
       "<Figure size 432x288 with 1 Axes>"
      ]
     },
     "metadata": {},
     "output_type": "display_data"
    },
    {
     "data": {
      "image/png": "[encoded data removed]",
      "text/plain": [
       "<Figure size 432x288 with 1 Axes>"
      ]
     },
     "metadata": {},
     "output_type": "display_data"
    },
    {
     "data": {
      "image/png": "[encoded data removed]",
      "text/plain": [
       "<Figure size 432x288 with 1 Axes>"
      ]
     },
     "metadata": {},
     "output_type": "display_data"
    },
    {
     "data": {
      "image/png": "[encoded data removed]",
      "text/plain": [
       "<Figure size 432x288 with 1 Axes>"
      ]
     },
     "metadata": {},
     "output_type": "display_data"
    },
    {
     "data": {
      "image/png": "[encoded data removed]",
      "text/plain": [
       "<Figure size 432x288 with 1 Axes>"
      ]
     },
     "metadata": {},
     "output_type": "display_data"
    },
    {
     "data": {
      "image/png": "[encoded data removed]",
      "text/plain": [
       "<Figure size 432x288 with 1 Axes>"
      ]
     },
     "metadata": {},
     "output_type": "display_data"
    },
    {
     "data": {
      "image/png": "[encoded data removed]",
      "text/plain": [
       "<Figure size 432x288 with 1 Axes>"
      ]
     },
     "metadata": {},
     "output_type": "display_data"
    },
    {
     "data": {
      "image/png": "[encoded data removed]",
      "text/plain": [
       "<Figure size 432x288 with 1 Axes>"
      ]
     },
     "metadata": {},
     "output_type": "display_data"
    },
    {
     "data": {
      "image/png": "[encoded data removed]",
      "text/plain": [
       "<Figure size 432x288 with 1 Axes>"
      ]
     },
     "metadata": {},
     "output_type": "display_data"
    },
    {
     "data": {
      "image/png": "[encoded data removed]",
      "text/plain": [
       "<Figure size 432x288 with 1 Axes>"
      ]
     },
     "metadata": {},
     "output_type": "display_data"
    },
    {
     "data": {
      "image/png": "[encoded data removed]",
      "text/plain": [
       "<Figure size 432x288 with 1 Axes>"
      ]
     },
     "metadata": {},
     "output_type": "display_data"
    },
    {
     "data": {
      "image/png": "[encoded data removed]",
      "text/plain": [
       "<Figure size 432x288 with 1 Axes>"
      ]
     },
     "metadata": {},
     "output_type": "display_data"
    },
    {
     "data": {
      "image/png": "[encoded data removed]",
      "text/plain": [
       "<Figure size 432x288 with 1 Axes>"
      ]
     },
     "metadata": {},
     "output_type": "display_data"
    },
    {
     "data": {
      "image/png": "[encoded data removed]",
      "text/plain": [
       "<Figure size 432x288 with 1 Axes>"
      ]
     },
     "metadata": {},
     "output_type": "display_data"
    }
   ],
   "source": [
    "# Creating a 'for loop' to display each of the columns in a histogram\n",
    "# would be the most efficient way to display the distribution of the features\n",
    "\n",
    "## Creating a new variable `new_cols` to store all the features we would like\n",
    "## to display with histograms\n",
    "new_cols = ['X1','X2','X12','X13','X14','X15','X16','X17','X18','X19','X20','X21','X22','X23']\n",
    "\n",
    "## Creating a new variable `plot_hists` to store the `new_cols`\n",
    "## and be populated with data from the `df_data` dataframe\n",
    "plot_hists = normal_data[new_cols]\n",
    "\n",
    "### Creating a for loop that will plot each column in\n",
    "### the variable `plot_hists` as long as it is a column\n",
    "### Using 20 `bins` for each histogram, as well\n",
    "for i in range(len(plot_hists.columns)):\n",
    "    plt.hist(plot_hists.iloc[:,i].dropna(),bins=20)\n",
    "### For each title, we are using the name of the column\n",
    "### as it appears in the `plot_hists` variable    \n",
    "    plt.title('%a' % plot_hists.columns[i])\n",
    "### Ultimately showing the histogram at the end of \n",
    "### the for loop\n",
    "    plt.show()"
   ]
  },
  {
   "cell_type": "code",
   "execution_count": 20,
   "metadata": {},
   "outputs": [
    {
     "data": {
      "text/plain": [
       "X1     0.304669\n",
       "X2     0.603733\n",
       "X12    0.292732\n",
       "X13    0.465474\n",
       "X14    0.454699\n",
       "X15    0.479423\n",
       "X16    0.480629\n",
       "X17    0.467228\n",
       "X18    0.267584\n",
       "X19    0.253964\n",
       "X20    0.234356\n",
       "X21    0.225566\n",
       "X22    0.224236\n",
       "X23    0.218015\n",
       "dtype: float64"
      ]
     },
     "execution_count": 20,
     "metadata": {},
     "output_type": "execute_result"
    }
   ],
   "source": [
    "normal_data.mean()"
   ]
  },
  {
   "cell_type": "code",
   "execution_count": 21,
   "metadata": {},
   "outputs": [
    {
     "name": "stdout",
     "output_type": "stream",
     "text": [
      "         X1   X2       X12       X13       X14       X15       X16       X17  \\\n",
      "1  0.215686  1.0  0.101293  0.317385  0.308721  0.345789  0.351934  0.338650   \n",
      "2  0.156863  1.0  0.250822  0.371991  0.361035  0.401665  0.414328  0.407636   \n",
      "3  0.078431  1.0  0.350769  0.523825  0.532893  0.472315  0.490391  0.486223   \n",
      "4  0.078431  0.0  0.134710  0.334896  0.468175  0.435057  0.437118  0.427746   \n",
      "5  0.078431  0.0  0.448796  0.563047  0.572895  0.427246  0.439686  0.432760   \n",
      "\n",
      "        X18       X19 ...        X23  X3_Bin  X4_Bin  X5_Bin  X6  X7  X8  X9  \\\n",
      "1  0.000000  0.088897 ...   0.203728       2       1       1   2   2  -1  -1   \n",
      "2  0.137837  0.133345 ...   0.509321       2       2       1  -1   2   0   0   \n",
      "3  0.181604  0.179483 ...   0.101864       2       2       2   0   0   0   0   \n",
      "4  0.181604  0.444484 ...   0.069166       2       1       2   0   0   0   0   \n",
      "5  0.227004  0.161348 ...   0.081491       2       1       3  -1   0  -1   0   \n",
      "\n",
      "   X10  X11  \n",
      "1    0    0  \n",
      "2    0    2  \n",
      "3    0    0  \n",
      "4    0    0  \n",
      "5    0    0  \n",
      "\n",
      "[5 rows x 23 columns]\n"
     ]
    }
   ],
   "source": [
    "# Concatinating back together\n",
    "\n",
    "data = pd.concat([normal_data,features_no], axis=1, join='inner')\n",
    "print(data.head())"
   ]
  },
  {
   "cell_type": "markdown",
   "metadata": {},
   "source": [
    "### Skewness ###"
   ]
  },
  {
   "cell_type": "code",
   "execution_count": 22,
   "metadata": {},
   "outputs": [
    {
     "data": {
      "text/plain": [
       "X1        0.873662\n",
       "X2       -0.424127\n",
       "X12       1.125018\n",
       "X13       1.125409\n",
       "X14       1.135383\n",
       "X15       1.141960\n",
       "X16       1.151061\n",
       "X17       1.168266\n",
       "X18       0.932252\n",
       "X19       0.996387\n",
       "X20       1.122606\n",
       "X21       0.998843\n",
       "X22       0.995135\n",
       "X23       1.012444\n",
       "X3_Bin    0.269070\n",
       "X4_Bin   -0.179601\n",
       "X5_Bin    0.028053\n",
       "X6        1.574051\n",
       "X7        1.614416\n",
       "X8        1.771189\n",
       "X9        2.202369\n",
       "X10       2.402050\n",
       "X11       2.275796\n",
       "dtype: float64"
      ]
     },
     "execution_count": 22,
     "metadata": {},
     "output_type": "execute_result"
    }
   ],
   "source": [
    "## Checking the skewness\n",
    "data.skew()"
   ]
  },
  {
   "cell_type": "code",
   "execution_count": 26,
   "metadata": {},
   "outputs": [],
   "source": [
    "# Fixing skewness\n",
    "data['X12'] = np.cbrt(normal_data['X12'])\n",
    "data['X13'] = np.cbrt(normal_data['X13'])\n",
    "data['X14'] = np.cbrt(normal_data['X14'])\n",
    "data['X15'] = np.cbrt(normal_data['X15'])\n",
    "data['X16'] = np.cbrt(normal_data['X16'])\n",
    "data['X17'] = np.cbrt(normal_data['X17'])\n",
    "data['X18'] = np.cbrt(normal_data['X18'])\n",
    "data['X19'] = np.cbrt(normal_data['X19'])\n",
    "data['X20'] = np.cbrt(normal_data['X20'])\n",
    "data['X21'] = np.cbrt(normal_data['X21'])\n",
    "data['X22'] = np.cbrt(normal_data['X22'])\n",
    "data['X23'] = np.cbrt(normal_data['X23'])"
   ]
  },
  {
   "cell_type": "code",
   "execution_count": 27,
   "metadata": {},
   "outputs": [
    {
     "data": {
      "text/plain": [
       "X1        0.873662\n",
       "X2       -0.424127\n",
       "X12       0.215014\n",
       "X13      -0.047780\n",
       "X14       0.044699\n",
       "X15      -0.143415\n",
       "X16      -0.169575\n",
       "X17      -0.079276\n",
       "X18      -1.520000\n",
       "X19      -1.475616\n",
       "X20      -1.314847\n",
       "X21      -1.213343\n",
       "X22      -1.164153\n",
       "X23      -1.076843\n",
       "X3_Bin    0.269070\n",
       "X4_Bin   -0.179601\n",
       "X5_Bin    0.028053\n",
       "X6        1.574051\n",
       "X7        1.614416\n",
       "X8        1.771189\n",
       "X9        2.202369\n",
       "X10       2.402050\n",
       "X11       2.275796\n",
       "dtype: float64"
      ]
     },
     "execution_count": 27,
     "metadata": {},
     "output_type": "execute_result"
    }
   ],
   "source": [
    "data.skew()"
   ]
  },
  {
   "cell_type": "code",
   "execution_count": 28,
   "metadata": {},
   "outputs": [
    {
     "data": {
      "text/html": [
       "<div>\n",
       "<style scoped>\n",
       "    .dataframe tbody tr th:only-of-type {\n",
       "        vertical-align: middle;\n",
       "    }\n",
       "\n",
       "    .dataframe tbody tr th {\n",
       "        vertical-align: top;\n",
       "    }\n",
       "\n",
       "    .dataframe thead th {\n",
       "        text-align: right;\n",
       "    }\n",
       "</style>\n",
       "<table border=\"1\" class=\"dataframe\">\n",
       "  <thead>\n",
       "    <tr style=\"text-align: right;\">\n",
       "      <th></th>\n",
       "      <th>X1</th>\n",
       "      <th>X2</th>\n",
       "      <th>X12</th>\n",
       "      <th>X13</th>\n",
       "      <th>X14</th>\n",
       "      <th>X15</th>\n",
       "      <th>X16</th>\n",
       "      <th>X17</th>\n",
       "      <th>X18</th>\n",
       "      <th>X19</th>\n",
       "      <th>...</th>\n",
       "      <th>X23</th>\n",
       "      <th>X3_Bin</th>\n",
       "      <th>X4_Bin</th>\n",
       "      <th>X5_Bin</th>\n",
       "      <th>X6</th>\n",
       "      <th>X7</th>\n",
       "      <th>X8</th>\n",
       "      <th>X9</th>\n",
       "      <th>X10</th>\n",
       "      <th>X11</th>\n",
       "    </tr>\n",
       "  </thead>\n",
       "  <tbody>\n",
       "    <tr>\n",
       "      <th>1</th>\n",
       "      <td>0.215686</td>\n",
       "      <td>1.0</td>\n",
       "      <td>0.775369</td>\n",
       "      <td>0.880280</td>\n",
       "      <td>0.877577</td>\n",
       "      <td>0.888703</td>\n",
       "      <td>0.890444</td>\n",
       "      <td>0.886646</td>\n",
       "      <td>0.000000</td>\n",
       "      <td>0.764204</td>\n",
       "      <td>...</td>\n",
       "      <td>0.837969</td>\n",
       "      <td>2</td>\n",
       "      <td>1</td>\n",
       "      <td>1</td>\n",
       "      <td>2</td>\n",
       "      <td>2</td>\n",
       "      <td>-1</td>\n",
       "      <td>-1</td>\n",
       "      <td>0</td>\n",
       "      <td>0</td>\n",
       "    </tr>\n",
       "    <tr>\n",
       "      <th>2</th>\n",
       "      <td>0.156863</td>\n",
       "      <td>1.0</td>\n",
       "      <td>0.857557</td>\n",
       "      <td>0.895945</td>\n",
       "      <td>0.892974</td>\n",
       "      <td>0.903618</td>\n",
       "      <td>0.906740</td>\n",
       "      <td>0.905101</td>\n",
       "      <td>0.802369</td>\n",
       "      <td>0.799420</td>\n",
       "      <td>...</td>\n",
       "      <td>0.927777</td>\n",
       "      <td>2</td>\n",
       "      <td>2</td>\n",
       "      <td>1</td>\n",
       "      <td>-1</td>\n",
       "      <td>2</td>\n",
       "      <td>0</td>\n",
       "      <td>0</td>\n",
       "      <td>0</td>\n",
       "      <td>2</td>\n",
       "    </tr>\n",
       "    <tr>\n",
       "      <th>3</th>\n",
       "      <td>0.078431</td>\n",
       "      <td>1.0</td>\n",
       "      <td>0.890116</td>\n",
       "      <td>0.930676</td>\n",
       "      <td>0.932452</td>\n",
       "      <td>0.920033</td>\n",
       "      <td>0.923881</td>\n",
       "      <td>0.923005</td>\n",
       "      <td>0.827333</td>\n",
       "      <td>0.826254</td>\n",
       "      <td>...</td>\n",
       "      <td>0.775854</td>\n",
       "      <td>2</td>\n",
       "      <td>2</td>\n",
       "      <td>2</td>\n",
       "      <td>0</td>\n",
       "      <td>0</td>\n",
       "      <td>0</td>\n",
       "      <td>0</td>\n",
       "      <td>0</td>\n",
       "      <td>0</td>\n",
       "    </tr>\n",
       "    <tr>\n",
       "      <th>4</th>\n",
       "      <td>0.078431</td>\n",
       "      <td>0.0</td>\n",
       "      <td>0.800325</td>\n",
       "      <td>0.885548</td>\n",
       "      <td>0.919134</td>\n",
       "      <td>0.911672</td>\n",
       "      <td>0.912151</td>\n",
       "      <td>0.909957</td>\n",
       "      <td>0.827333</td>\n",
       "      <td>0.913846</td>\n",
       "      <td>...</td>\n",
       "      <td>0.743189</td>\n",
       "      <td>2</td>\n",
       "      <td>1</td>\n",
       "      <td>2</td>\n",
       "      <td>0</td>\n",
       "      <td>0</td>\n",
       "      <td>0</td>\n",
       "      <td>0</td>\n",
       "      <td>0</td>\n",
       "      <td>0</td>\n",
       "    </tr>\n",
       "    <tr>\n",
       "      <th>5</th>\n",
       "      <td>0.078431</td>\n",
       "      <td>0.0</td>\n",
       "      <td>0.914827</td>\n",
       "      <td>0.938173</td>\n",
       "      <td>0.939982</td>\n",
       "      <td>0.909838</td>\n",
       "      <td>0.912744</td>\n",
       "      <td>0.911135</td>\n",
       "      <td>0.848102</td>\n",
       "      <td>0.816533</td>\n",
       "      <td>...</td>\n",
       "      <td>0.756854</td>\n",
       "      <td>2</td>\n",
       "      <td>1</td>\n",
       "      <td>3</td>\n",
       "      <td>-1</td>\n",
       "      <td>0</td>\n",
       "      <td>-1</td>\n",
       "      <td>0</td>\n",
       "      <td>0</td>\n",
       "      <td>0</td>\n",
       "    </tr>\n",
       "  </tbody>\n",
       "</table>\n",
       "<p>5 rows × 23 columns</p>\n",
       "</div>"
      ],
      "text/plain": [
       "         X1   X2       X12       X13       X14       X15       X16       X17  \\\n",
       "1  0.215686  1.0  0.775369  0.880280  0.877577  0.888703  0.890444  0.886646   \n",
       "2  0.156863  1.0  0.857557  0.895945  0.892974  0.903618  0.906740  0.905101   \n",
       "3  0.078431  1.0  0.890116  0.930676  0.932452  0.920033  0.923881  0.923005   \n",
       "4  0.078431  0.0  0.800325  0.885548  0.919134  0.911672  0.912151  0.909957   \n",
       "5  0.078431  0.0  0.914827  0.938173  0.939982  0.909838  0.912744  0.911135   \n",
       "\n",
       "        X18       X19 ...        X23  X3_Bin  X4_Bin  X5_Bin  X6  X7  X8  X9  \\\n",
       "1  0.000000  0.764204 ...   0.837969       2       1       1   2   2  -1  -1   \n",
       "2  0.802369  0.799420 ...   0.927777       2       2       1  -1   2   0   0   \n",
       "3  0.827333  0.826254 ...   0.775854       2       2       2   0   0   0   0   \n",
       "4  0.827333  0.913846 ...   0.743189       2       1       2   0   0   0   0   \n",
       "5  0.848102  0.816533 ...   0.756854       2       1       3  -1   0  -1   0   \n",
       "\n",
       "   X10  X11  \n",
       "1    0    0  \n",
       "2    0    2  \n",
       "3    0    0  \n",
       "4    0    0  \n",
       "5    0    0  \n",
       "\n",
       "[5 rows x 23 columns]"
      ]
     },
     "execution_count": 28,
     "metadata": {},
     "output_type": "execute_result"
    }
   ],
   "source": [
    "data.head()"
   ]
  },
  {
   "cell_type": "code",
   "execution_count": 29,
   "metadata": {},
   "outputs": [],
   "source": [
    "data = pd.concat([data,target], axis=1, join='inner')"
   ]
  },
  {
   "cell_type": "code",
   "execution_count": 30,
   "metadata": {},
   "outputs": [
    {
     "data": {
      "text/html": [
       "<div>\n",
       "<style scoped>\n",
       "    .dataframe tbody tr th:only-of-type {\n",
       "        vertical-align: middle;\n",
       "    }\n",
       "\n",
       "    .dataframe tbody tr th {\n",
       "        vertical-align: top;\n",
       "    }\n",
       "\n",
       "    .dataframe thead th {\n",
       "        text-align: right;\n",
       "    }\n",
       "</style>\n",
       "<table border=\"1\" class=\"dataframe\">\n",
       "  <thead>\n",
       "    <tr style=\"text-align: right;\">\n",
       "      <th></th>\n",
       "      <th>X1</th>\n",
       "      <th>X2</th>\n",
       "      <th>X12</th>\n",
       "      <th>X13</th>\n",
       "      <th>X14</th>\n",
       "      <th>X15</th>\n",
       "      <th>X16</th>\n",
       "      <th>X17</th>\n",
       "      <th>X18</th>\n",
       "      <th>X19</th>\n",
       "      <th>...</th>\n",
       "      <th>X3_Bin</th>\n",
       "      <th>X4_Bin</th>\n",
       "      <th>X5_Bin</th>\n",
       "      <th>X6</th>\n",
       "      <th>X7</th>\n",
       "      <th>X8</th>\n",
       "      <th>X9</th>\n",
       "      <th>X10</th>\n",
       "      <th>X11</th>\n",
       "      <th>Y</th>\n",
       "    </tr>\n",
       "  </thead>\n",
       "  <tbody>\n",
       "    <tr>\n",
       "      <th>1</th>\n",
       "      <td>0.215686</td>\n",
       "      <td>1.0</td>\n",
       "      <td>0.775369</td>\n",
       "      <td>0.880280</td>\n",
       "      <td>0.877577</td>\n",
       "      <td>0.888703</td>\n",
       "      <td>0.890444</td>\n",
       "      <td>0.886646</td>\n",
       "      <td>0.000000</td>\n",
       "      <td>0.764204</td>\n",
       "      <td>...</td>\n",
       "      <td>2</td>\n",
       "      <td>1</td>\n",
       "      <td>1</td>\n",
       "      <td>2</td>\n",
       "      <td>2</td>\n",
       "      <td>-1</td>\n",
       "      <td>-1</td>\n",
       "      <td>0</td>\n",
       "      <td>0</td>\n",
       "      <td>1</td>\n",
       "    </tr>\n",
       "    <tr>\n",
       "      <th>2</th>\n",
       "      <td>0.156863</td>\n",
       "      <td>1.0</td>\n",
       "      <td>0.857557</td>\n",
       "      <td>0.895945</td>\n",
       "      <td>0.892974</td>\n",
       "      <td>0.903618</td>\n",
       "      <td>0.906740</td>\n",
       "      <td>0.905101</td>\n",
       "      <td>0.802369</td>\n",
       "      <td>0.799420</td>\n",
       "      <td>...</td>\n",
       "      <td>2</td>\n",
       "      <td>2</td>\n",
       "      <td>1</td>\n",
       "      <td>-1</td>\n",
       "      <td>2</td>\n",
       "      <td>0</td>\n",
       "      <td>0</td>\n",
       "      <td>0</td>\n",
       "      <td>2</td>\n",
       "      <td>1</td>\n",
       "    </tr>\n",
       "    <tr>\n",
       "      <th>3</th>\n",
       "      <td>0.078431</td>\n",
       "      <td>1.0</td>\n",
       "      <td>0.890116</td>\n",
       "      <td>0.930676</td>\n",
       "      <td>0.932452</td>\n",
       "      <td>0.920033</td>\n",
       "      <td>0.923881</td>\n",
       "      <td>0.923005</td>\n",
       "      <td>0.827333</td>\n",
       "      <td>0.826254</td>\n",
       "      <td>...</td>\n",
       "      <td>2</td>\n",
       "      <td>2</td>\n",
       "      <td>2</td>\n",
       "      <td>0</td>\n",
       "      <td>0</td>\n",
       "      <td>0</td>\n",
       "      <td>0</td>\n",
       "      <td>0</td>\n",
       "      <td>0</td>\n",
       "      <td>0</td>\n",
       "    </tr>\n",
       "    <tr>\n",
       "      <th>4</th>\n",
       "      <td>0.078431</td>\n",
       "      <td>0.0</td>\n",
       "      <td>0.800325</td>\n",
       "      <td>0.885548</td>\n",
       "      <td>0.919134</td>\n",
       "      <td>0.911672</td>\n",
       "      <td>0.912151</td>\n",
       "      <td>0.909957</td>\n",
       "      <td>0.827333</td>\n",
       "      <td>0.913846</td>\n",
       "      <td>...</td>\n",
       "      <td>2</td>\n",
       "      <td>1</td>\n",
       "      <td>2</td>\n",
       "      <td>0</td>\n",
       "      <td>0</td>\n",
       "      <td>0</td>\n",
       "      <td>0</td>\n",
       "      <td>0</td>\n",
       "      <td>0</td>\n",
       "      <td>0</td>\n",
       "    </tr>\n",
       "    <tr>\n",
       "      <th>5</th>\n",
       "      <td>0.078431</td>\n",
       "      <td>0.0</td>\n",
       "      <td>0.914827</td>\n",
       "      <td>0.938173</td>\n",
       "      <td>0.939982</td>\n",
       "      <td>0.909838</td>\n",
       "      <td>0.912744</td>\n",
       "      <td>0.911135</td>\n",
       "      <td>0.848102</td>\n",
       "      <td>0.816533</td>\n",
       "      <td>...</td>\n",
       "      <td>2</td>\n",
       "      <td>1</td>\n",
       "      <td>3</td>\n",
       "      <td>-1</td>\n",
       "      <td>0</td>\n",
       "      <td>-1</td>\n",
       "      <td>0</td>\n",
       "      <td>0</td>\n",
       "      <td>0</td>\n",
       "      <td>0</td>\n",
       "    </tr>\n",
       "  </tbody>\n",
       "</table>\n",
       "<p>5 rows × 24 columns</p>\n",
       "</div>"
      ],
      "text/plain": [
       "         X1   X2       X12       X13       X14       X15       X16       X17  \\\n",
       "1  0.215686  1.0  0.775369  0.880280  0.877577  0.888703  0.890444  0.886646   \n",
       "2  0.156863  1.0  0.857557  0.895945  0.892974  0.903618  0.906740  0.905101   \n",
       "3  0.078431  1.0  0.890116  0.930676  0.932452  0.920033  0.923881  0.923005   \n",
       "4  0.078431  0.0  0.800325  0.885548  0.919134  0.911672  0.912151  0.909957   \n",
       "5  0.078431  0.0  0.914827  0.938173  0.939982  0.909838  0.912744  0.911135   \n",
       "\n",
       "        X18       X19 ...  X3_Bin  X4_Bin  X5_Bin  X6  X7  X8  X9  X10  X11  Y  \n",
       "1  0.000000  0.764204 ...       2       1       1   2   2  -1  -1    0    0  1  \n",
       "2  0.802369  0.799420 ...       2       2       1  -1   2   0   0    0    2  1  \n",
       "3  0.827333  0.826254 ...       2       2       2   0   0   0   0    0    0  0  \n",
       "4  0.827333  0.913846 ...       2       1       2   0   0   0   0    0    0  0  \n",
       "5  0.848102  0.816533 ...       2       1       3  -1   0  -1   0    0    0  0  \n",
       "\n",
       "[5 rows x 24 columns]"
      ]
     },
     "execution_count": 30,
     "metadata": {},
     "output_type": "execute_result"
    }
   ],
   "source": [
    "data.head()"
   ]
  },
  {
   "cell_type": "code",
   "execution_count": 31,
   "metadata": {},
   "outputs": [],
   "source": [
    "# Exporting to csv file\n",
    "\n",
    "data.to_csv(\"MinMax1_Final\",\",\")"
   ]
  }
 ],
 "metadata": {
  "kernelspec": {
   "display_name": "Python 3",
   "language": "python",
   "name": "python3"
  },
  "language_info": {
   "codemirror_mode": {
    "name": "ipython",
    "version": 3
   },
   "file_extension": ".py",
   "mimetype": "text/x-python",
   "name": "python",
   "nbconvert_exporter": "python",
   "pygments_lexer": "ipython3",
   "version": "3.6.5"
  }
 },
 "nbformat": 4,
 "nbformat_minor": 2
}
