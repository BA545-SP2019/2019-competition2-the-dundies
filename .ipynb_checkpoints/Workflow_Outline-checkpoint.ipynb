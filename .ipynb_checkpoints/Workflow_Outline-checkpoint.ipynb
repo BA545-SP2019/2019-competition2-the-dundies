{
 "cells": [
  {
   "cell_type": "markdown",
   "metadata": {},
   "source": [
    "### Workflow Outline ###"
   ]
  },
  {
   "cell_type": "markdown",
   "metadata": {},
   "source": [
    "The objective of this workbook is to simply outline the processes that we are going to take to complete __Competition 2__."
   ]
  },
  {
   "cell_type": "markdown",
   "metadata": {},
   "source": [
    "#### Steps ####\n",
    "\n",
    "- __Competition 1 Stuff__ -\n",
    "    Literally do everything that we did in Competition 1 for the data set that we are using for Competition 2. This is going to take a while to do to cover all of the different pipelines that we are going to create.\n",
    "- __Create about 10-15 Pipelines__ - These pipelines are going to be used to figure out the best dataset to be used for creating a model for completion for Competition 2. This way, we can cover all aspects of the data set, and hopefully getting a good model.\n",
    "- __Create Final Notebooks for Different Models__ - These notebooks are going to be used for the final evaluation in determing the best possible model that will be used for Competition 2."
   ]
  }
 ],
 "metadata": {
  "kernelspec": {
   "display_name": "Python 3",
   "language": "python",
   "name": "python3"
  },
  "language_info": {
   "codemirror_mode": {
    "name": "ipython",
    "version": 3
   },
   "file_extension": ".py",
   "mimetype": "text/x-python",
   "name": "python",
   "nbconvert_exporter": "python",
   "pygments_lexer": "ipython3",
   "version": "3.6.5"
  }
 },
 "nbformat": 4,
 "nbformat_minor": 2
}
